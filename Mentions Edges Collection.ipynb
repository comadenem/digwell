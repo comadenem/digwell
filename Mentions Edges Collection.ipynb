{
 "cells": [
  {
   "cell_type": "code",
   "execution_count": null,
   "metadata": {},
   "outputs": [],
   "source": [
    "#Imports\n",
    "import pandas as pd\n",
    "import networkx as nx\n",
    "import time\n",
    "import tweepy\n",
    "import datetime"
   ]
  },
  {
   "cell_type": "code",
   "execution_count": null,
   "metadata": {},
   "outputs": [],
   "source": [
    "#API Keys\n",
    "consumer_key = 'HoshUlv1vavF5iYgdNk6TmaOM'\n",
    "consumer_secret = 'tvFIN4wsy3CnjYWpPX88vLMxb7i5BfLrMyJSm0trPly3R6iBDO'\n",
    "access_token = '796224491395366914-Tn2B2iBpy6e5xDj5GquZw5P8ap7Lpdi'\n",
    "access_token_secret = '3csIFTivfgeSP8iEvtOhEzPUH1Pxqzvl6h5gCX0OA4IKQ'"
   ]
  },
  {
   "cell_type": "code",
   "execution_count": null,
   "metadata": {},
   "outputs": [],
   "source": [
    "# load data\n",
    "digwell = pd.read_pickle(\"digwell.pkl\")\n",
    "digwell.set_index(\"id\", inplace=True)"
   ]
  },
  {
   "cell_type": "code",
   "execution_count": null,
   "metadata": {},
   "outputs": [],
   "source": [
    "# timeframe\n",
    "today = datetime.date.today()\n",
    "\n",
    "start_date = today - datetime.timedelta(days = today.weekday(), weeks = 1)\n",
    "end_date   = start_date + datetime.timedelta(days = 7)\n",
    "\n",
    "def utc2snowflake(utc_timestamp):\n",
    "    return (int(round(utc_timestamp * 1000)) - 1288834974657) << 22\n",
    "\n",
    "max_id = utc2snowflake(time.mktime(end_date.timetuple()))\n",
    "min_id = utc2snowflake(time.mktime(start_date.timetuple()))"
   ]
  },
  {
   "cell_type": "code",
   "execution_count": null,
   "metadata": {},
   "outputs": [],
   "source": [
    "# graph\n",
    "G = nx.DiGraph() \n",
    "G.add_nodes_from(list(digwell.index))\n",
    "cols = list(digwell.columns)\n",
    "cols.remove(\"object\")\n",
    "for col in cols:\n",
    "   nx.set_node_attributes(G, pd.Series(digwell[col]).to_dict(), col)"
   ]
  },
  {
   "cell_type": "code",
   "execution_count": null,
   "metadata": {},
   "outputs": [],
   "source": [
    "# iterating through timeline for mentions\n",
    "\n",
    "ids = list(digwell.index)\n",
    "ids = list(map(int, ids))\n",
    "\n",
    "failed = []\n",
    "j = 0\n",
    "\n",
    "for i in ids:\n",
    "    j += 1\n",
    "    print(str(i) + \" \" + str(j))\n",
    "    try:\n",
    "        search = api.user_timeline(user_id = i, min_id = min_id, max_id = max_id, include_rts = True)\n",
    "        for tweet in search:\n",
    "            user_mentions = tweet.entities['user_mentions']\n",
    "            for user in user_mentions:\n",
    "                mention = list(user['id_str'])\n",
    "                digwell_mention = list(set(ids) & set(mention))\n",
    "                joined = list(zip([i] * len(digwell_mention), digwell_mention))\n",
    "                G.add_edges_from(joined)\n",
    "                nx.write_gpickle(G, \"digwelltwitterment.gpickle\")\n",
    "    except tweepy.error.TweepError as ex:\n",
    "        print(ex.reason)\n",
    "        failed.append(i)"
   ]
  },
  {
   "cell_type": "code",
   "execution_count": null,
   "metadata": {},
   "outputs": [],
   "source": [
    "G.add_edges_from(joined)\n",
    "nx.write_gpickle(G, \"digwelltwitterment.gpickle\")"
   ]
  },
  {
   "cell_type": "code",
   "execution_count": null,
   "metadata": {},
   "outputs": [],
   "source": [
    "# save edgelist \n",
    "edge_df = nx.to_pandas_edgelist(G)\n",
    "edge_df.to_csv(\"digwell_mentions_edges.csv\", index = False) "
   ]
  }
 ],
 "metadata": {
  "kernelspec": {
   "display_name": "Python 3",
   "language": "python",
   "name": "python3"
  },
  "language_info": {
   "codemirror_mode": {
    "name": "ipython",
    "version": 3
   },
   "file_extension": ".py",
   "mimetype": "text/x-python",
   "name": "python",
   "nbconvert_exporter": "python",
   "pygments_lexer": "ipython3",
   "version": "3.7.6"
  }
 },
 "nbformat": 4,
 "nbformat_minor": 4
}

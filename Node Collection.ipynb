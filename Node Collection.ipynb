{
 "cells": [
  {
   "cell_type": "code",
   "execution_count": 1,
   "metadata": {},
   "outputs": [],
   "source": [
    "#imports\n",
    "import time\n",
    "import csv\n",
    "import tweepy\n",
    "import pandas as pd\n",
    "import numpy as np"
   ]
  },
  {
   "cell_type": "code",
   "execution_count": 2,
   "metadata": {},
   "outputs": [],
   "source": [
    "#API Keys\n",
    "consumer_key = 'HoshUlv1vavF5iYgdNk6TmaOM'\n",
    "consumer_secret = 'tvFIN4wsy3CnjYWpPX88vLMxb7i5BfLrMyJSm0trPly3R6iBDO'\n",
    "access_token = '796224491395366914-Tn2B2iBpy6e5xDj5GquZw5P8ap7Lpdi'\n",
    "access_token_secret = '3csIFTivfgeSP8iEvtOhEzPUH1Pxqzvl6h5gCX0OA4IKQ'"
   ]
  },
  {
   "cell_type": "code",
   "execution_count": 3,
   "metadata": {},
   "outputs": [],
   "source": [
    "#AppAuth API\n",
    "auth = tweepy.OAuthHandler(consumer_key, consumer_secret)\n",
    "auth.set_access_token(access_token, access_token_secret)\n",
    "api = tweepy.API(auth, wait_on_rate_limit=True, wait_on_rate_limit_notify=True, retry_count=3, retry_delay=60)"
   ]
  },
  {
   "cell_type": "code",
   "execution_count": 5,
   "metadata": {},
   "outputs": [
    {
     "name": "stdout",
     "output_type": "stream",
     "text": [
      "<class 'pandas.core.frame.DataFrame'>\n",
      "RangeIndex: 25 entries, 0 to 24\n",
      "Data columns (total 9 columns):\n",
      " #   Column     Non-Null Count  Dtype         \n",
      "---  ------     --------------  -----         \n",
      " 0   name       25 non-null     object        \n",
      " 1   handle     25 non-null     object        \n",
      " 2   id         25 non-null     object        \n",
      " 3   following  25 non-null     int64         \n",
      " 4   followers  25 non-null     int64         \n",
      " 5   verified   25 non-null     bool          \n",
      " 6   favorites  25 non-null     int64         \n",
      " 7   join_date  25 non-null     datetime64[ns]\n",
      " 8   object     25 non-null     object        \n",
      "dtypes: bool(1), datetime64[ns](1), int64(3), object(4)\n",
      "memory usage: 1.7+ KB\n",
      "None\n"
     ]
    }
   ],
   "source": [
    "# Use tweepy to scrape the Twitter list found at https://twitter.com/i/lists/1345029331542798357\n",
    "lst = []\n",
    "digwell = tweepy.Cursor(api.list_members, list_id=1345029331542798357).items()\n",
    "for user in digwell:\n",
    "    l = [user.name, user.screen_name, user.id_str, user.friends_count, user.followers_count, user.verified, user.favourites_count, \n",
    "         user.created_at, user]\n",
    "    lst.append(l)\n",
    "\n",
    "cols = ['name', 'handle', 'id', 'following', 'followers', 'verified', 'favorites', 'join_date', 'object']\n",
    "digwell = pd.DataFrame(lst, columns = cols)\n",
    "print(digwell.info())"
   ]
  },
  {
   "cell_type": "code",
   "execution_count": 6,
   "metadata": {},
   "outputs": [],
   "source": [
    "#save to csv\n",
    "digwell.dropna(inplace=True)\n",
    "digwell.join_date = pd.to_datetime(digwell.join_date)\n",
    "digwell.set_index(\"id\")\n",
    "digwell.to_pickle(\"digwell.pkl\")\n",
    "digwell.to_csv(\"digwell.csv\")"
   ]
  },
  {
   "cell_type": "code",
   "execution_count": null,
   "metadata": {},
   "outputs": [],
   "source": []
  }
 ],
 "metadata": {
  "kernelspec": {
   "display_name": "Python 3",
   "language": "python",
   "name": "python3"
  },
  "language_info": {
   "codemirror_mode": {
    "name": "ipython",
    "version": 3
   },
   "file_extension": ".py",
   "mimetype": "text/x-python",
   "name": "python",
   "nbconvert_exporter": "python",
   "pygments_lexer": "ipython3",
   "version": "3.7.6"
  }
 },
 "nbformat": 4,
 "nbformat_minor": 4
}

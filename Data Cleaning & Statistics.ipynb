{
 "cells": [
  {
   "cell_type": "code",
   "execution_count": 17,
   "metadata": {},
   "outputs": [],
   "source": [
    "#Imports\n",
    "import pandas as pd\n",
    "from scipy.stats import binom\n",
    "import matplotlib.pyplot as plt"
   ]
  },
  {
   "cell_type": "code",
   "execution_count": 2,
   "metadata": {},
   "outputs": [],
   "source": [
    "#Dataframe\n",
    "df = pd.read_csv('Digwell_Gephi_Data.csv') "
   ]
  },
  {
   "cell_type": "code",
   "execution_count": 4,
   "metadata": {},
   "outputs": [],
   "source": [
    "#Data Cleaning\n",
    "df.drop(['Label','timeset','favorites','digwell_following','digwell_followers','following_ratio','followers_ratio','in_deg_centrality','out_deg_centrality'], axis = 1, inplace = True) "
   ]
  },
  {
   "cell_type": "code",
   "execution_count": 7,
   "metadata": {},
   "outputs": [],
   "source": [
    "#Zentralitätstabelle für Arbeit\n",
    "df = df[['Id','name','handle','indegree','outdegree','betweenesscentrality','eigencentrality']]\n",
    "df.to_csv('centralitytable.csv')"
   ]
  },
  {
   "cell_type": "code",
   "execution_count": 20,
   "metadata": {},
   "outputs": [
    {
     "data": {
      "text/plain": [
       "Timestamp('2012-10-29 07:47:51.560000')"
      ]
     },
     "execution_count": 20,
     "metadata": {},
     "output_type": "execute_result"
    }
   ],
   "source": [
    "#Durchschnitt der Twittermitgliedschaft\n",
    "df['join_date'].mean()"
   ]
  },
  {
   "cell_type": "code",
   "execution_count": 19,
   "metadata": {},
   "outputs": [
    {
     "name": "stdout",
     "output_type": "stream",
     "text": [
      "outdegree    5.0\n",
      "dtype: float64 outdegree    5.04\n",
      "dtype: float64 indegree    6.0\n",
      "dtype: float64 indegree    5.04\n",
      "dtype: float64\n"
     ]
    }
   ],
   "source": [
    "#Statistiken zu In- und Outdegree\n",
    "median_outdegree = df[['outdegree']].median()\n",
    "mean_outdegree = df[['outdegree']].mean()\n",
    "median_indegree = df[['indegree']].median()\n",
    "mean_indegree = df[['indegree']].mean()\n",
    "\n",
    "print(median_outdegree, mean_outdegree, median_indegree, mean_indegree)"
   ]
  },
  {
   "cell_type": "code",
   "execution_count": null,
   "metadata": {},
   "outputs": [],
   "source": [
    "# Signifikanztest Homophilie\n",
    "p_hci = binom.pmf(25,0.5,22)\n",
    "p_com = binom.pmf(38,0.5,34)\n",
    "\n",
    "print(p_hci, p_com)"
   ]
  }
 ],
 "metadata": {
  "kernelspec": {
   "display_name": "Python 3",
   "language": "python",
   "name": "python3"
  },
  "language_info": {
   "codemirror_mode": {
    "name": "ipython",
    "version": 3
   },
   "file_extension": ".py",
   "mimetype": "text/x-python",
   "name": "python",
   "nbconvert_exporter": "python",
   "pygments_lexer": "ipython3",
   "version": "3.7.6"
  }
 },
 "nbformat": 4,
 "nbformat_minor": 4
}

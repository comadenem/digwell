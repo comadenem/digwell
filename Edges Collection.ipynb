{
 "cells": [
  {
   "cell_type": "code",
   "execution_count": 1,
   "metadata": {},
   "outputs": [],
   "source": [
    "#imports\n",
    "import pandas as pd\n",
    "import networkx as nx\n",
    "import time\n",
    "import tweepy "
   ]
  },
  {
   "cell_type": "code",
   "execution_count": 2,
   "metadata": {},
   "outputs": [],
   "source": [
    "#API Keys\n",
    "consumer_key = 'HoshUlv1vavF5iYgdNk6TmaOM'\n",
    "consumer_secret = 'tvFIN4wsy3CnjYWpPX88vLMxb7i5BfLrMyJSm0trPly3R6iBDO'\n",
    "access_token = '796224491395366914-Tn2B2iBpy6e5xDj5GquZw5P8ap7Lpdi'\n",
    "access_token_secret = '3csIFTivfgeSP8iEvtOhEzPUH1Pxqzvl6h5gCX0OA4IKQ'"
   ]
  },
  {
   "cell_type": "code",
   "execution_count": 3,
   "metadata": {},
   "outputs": [],
   "source": [
    "auth = tweepy.OAuthHandler(consumer_key, consumer_secret)\n",
    "auth.set_access_token(access_token, access_token_secret)\n",
    "api = tweepy.API(auth, wait_on_rate_limit=True, wait_on_rate_limit_notify=True, retry_count=3, retry_delay=60)"
   ]
  },
  {
   "cell_type": "code",
   "execution_count": 4,
   "metadata": {},
   "outputs": [],
   "source": [
    "# load data from edges\n",
    "digwell = pd.read_pickle(\"digwell.pkl\")\n",
    "digwell.set_index(\"id\", inplace=True)"
   ]
  },
  {
   "cell_type": "code",
   "execution_count": 5,
   "metadata": {},
   "outputs": [],
   "source": [
    "# make graph with nodelist and node attributes\n",
    "G = nx.DiGraph() \n",
    "G.add_nodes_from(list(digwell.index))\n",
    "cols = list(digwell.columns)\n",
    "cols.remove(\"object\")\n",
    "for col in cols:\n",
    "    nx.set_node_attributes(G, pd.Series(digwell[col]).to_dict(), col)"
   ]
  },
  {
   "cell_type": "code",
   "execution_count": null,
   "metadata": {},
   "outputs": [],
   "source": [
    "# add edges by iterating through friend lists \n",
    "\n",
    "ids = list(digwell.index)\n",
    "\n",
    "failed = []\n",
    "j = 0\n",
    "for i in ids:\n",
    "    j += 1\n",
    "    print(str(i) + \" \" + str(j))\n",
    "    try:\n",
    "        following = list(api.friends_ids(user_id = i))\n",
    "        digwell_follows = list(set(ids) & set(following))\n",
    "        joined = list(zip([i] * len(digwell_follows), digwell_follows))\n",
    "        G.add_edges_from(joined)\n",
    "        nx.write_gpickle(G, \"digwelltwitter.gpickle\")\n",
    "    except tweepy.error.TweepError as ex:\n",
    "        print(ex.reason)\n",
    "        failed.append(i)"
   ]
  },
  {
   "cell_type": "code",
   "execution_count": null,
   "metadata": {},
   "outputs": [],
   "source": [
    "# second round for failed\n",
    "\n",
    "for i in failed:\n",
    "    try:\n",
    "        following = list(api.friends_ids(user_id = i))\n",
    "        digwell_follows = list(set(ids) & set (following))\n",
    "        joined = list(zip([i] * len(digwell_follows), digwell_follows))\n",
    "        G.add_edges_from(joined)\n",
    "        nx.write_gpickle(G, \"digwelltwitter.gpickle\")\n",
    "    except tweepy.error.TweepError as ex:\n",
    "        print(ex.reason)\n",
    "        failed.append(i)"
   ]
  },
  {
   "cell_type": "code",
   "execution_count": null,
   "metadata": {},
   "outputs": [],
   "source": [
    "G.add_edges_from(joined)\n",
    "nx.write_gpickle(G, \"digwelltwitter.gpickle\")"
   ]
  },
  {
   "cell_type": "code",
   "execution_count": null,
   "metadata": {},
   "outputs": [],
   "source": [
    "# save edgelist \n",
    "edge_df = nx.to_pandas_edgelist(G)\n",
    "edge_df.to_csv(\"digwell_edges.csv\", index = False) "
   ]
  }
 ],
 "metadata": {
  "kernelspec": {
   "display_name": "Python 3",
   "language": "python",
   "name": "python3"
  },
  "language_info": {
   "codemirror_mode": {
    "name": "ipython",
    "version": 3
   },
   "file_extension": ".py",
   "mimetype": "text/x-python",
   "name": "python",
   "nbconvert_exporter": "python",
   "pygments_lexer": "ipython3",
   "version": "3.7.6"
  }
 },
 "nbformat": 4,
 "nbformat_minor": 4
}
